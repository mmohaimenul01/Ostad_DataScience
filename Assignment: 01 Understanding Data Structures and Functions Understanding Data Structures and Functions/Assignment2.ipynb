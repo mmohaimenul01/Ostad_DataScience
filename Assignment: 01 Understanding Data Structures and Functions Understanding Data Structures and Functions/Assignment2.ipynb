{
 "cells": [
  {
   "cell_type": "markdown",
   "id": "656f25ba-a753-4566-80dd-8efb7586f9aa",
   "metadata": {},
   "source": [
    "Problem: 01\n",
    "\n",
    "Write a function that takes two numbers as input and returns their average. Call the function with different values."
   ]
  },
  {
   "cell_type": "code",
   "execution_count": 2,
   "id": "6edfda95-89ba-49df-b5c3-0e2a347f303a",
   "metadata": {},
   "outputs": [],
   "source": [
    "def average(num1, num2):\n",
    "    try:\n",
    "        num1 = float(num1)\n",
    "        num2 = float(num2)\n",
    "        return (num1 + num2) / 2\n",
    "    except ValueError:\n",
    "        return \"Error: Both inputs must be numbers.\""
   ]
  },
  {
   "cell_type": "code",
   "execution_count": 10,
   "id": "c48b39df-72f2-4cbb-825c-2e4ff0ae423e",
   "metadata": {},
   "outputs": [
    {
     "data": {
      "text/plain": [
       "28.5"
      ]
     },
     "execution_count": 10,
     "metadata": {},
     "output_type": "execute_result"
    }
   ],
   "source": [
    "average(20, 37)"
   ]
  },
  {
   "cell_type": "code",
   "execution_count": 12,
   "id": "9b8f4a4f-d45e-4364-aa79-d70e0f7c6b76",
   "metadata": {},
   "outputs": [
    {
     "data": {
      "text/plain": [
       "58.5"
      ]
     },
     "execution_count": 12,
     "metadata": {},
     "output_type": "execute_result"
    }
   ],
   "source": [
    "average(50, 67)"
   ]
  },
  {
   "cell_type": "code",
   "execution_count": 17,
   "id": "4c0141a5-5be2-4b05-9732-7efea3b79c15",
   "metadata": {},
   "outputs": [
    {
     "data": {
      "text/plain": [
       "'Error: Both inputs must be numbers.'"
      ]
     },
     "execution_count": 17,
     "metadata": {},
     "output_type": "execute_result"
    }
   ],
   "source": [
    "average(50, 'abc')"
   ]
  },
  {
   "cell_type": "markdown",
   "id": "9b56f7e7-a48e-4bd6-8087-29871669ea28",
   "metadata": {},
   "source": [
    "--------------------"
   ]
  },
  {
   "cell_type": "markdown",
   "id": "1af9e55a-dc4c-400f-bea0-ae0a196149b9",
   "metadata": {},
   "source": [
    "Problem: 02\n",
    "\n",
    "Write a function that sorts a list of strings alphabetically. \n",
    "\n",
    "[\"apple\", \"banana\", \"cherry\", \"kiwi\", \"grape\"]"
   ]
  },
  {
   "cell_type": "code",
   "execution_count": 29,
   "id": "febc4946-cce8-4e6a-bd1f-44d1b6bf8854",
   "metadata": {},
   "outputs": [],
   "source": [
    "def sort_alpha(strings):\n",
    "    n = len(strings)\n",
    "    for i in range(n):\n",
    "        for j in range(0, n - i - 1):\n",
    "            if strings[j] > strings[j + 1]:\n",
    "                strings[j], strings[j + 1] = strings[j + 1], strings[j]\n",
    "    return strings"
   ]
  },
  {
   "cell_type": "code",
   "execution_count": 31,
   "id": "0b775591-b702-42e8-8916-ce77b69be126",
   "metadata": {},
   "outputs": [
    {
     "name": "stdout",
     "output_type": "stream",
     "text": [
      "['apple', 'banana', 'cherry', 'grape', 'kiwi']\n"
     ]
    }
   ],
   "source": [
    "words = [\"apple\", \"banana\", \"cherry\", \"kiwi\", \"grape\"]\n",
    "sorted_words = sort_alpha(words)\n",
    "print(sorted_words)"
   ]
  },
  {
   "cell_type": "markdown",
   "id": "d834adbf-468b-4751-906f-03a2b59603df",
   "metadata": {},
   "source": [
    "----------------------------------------"
   ]
  },
  {
   "cell_type": "markdown",
   "id": "f833743b-9498-4ff0-8966-482c9e9eea83",
   "metadata": {},
   "source": [
    "Problem: 03\n",
    "\n",
    "Write a Python program that creates a new list containing only the duplicate elements from the given list: [1, 5, 6, 5, 1, 2, 3]."
   ]
  },
  {
   "cell_type": "code",
   "execution_count": 33,
   "id": "017a8bbc-078e-4cfe-bf28-93832d9a479b",
   "metadata": {},
   "outputs": [],
   "source": [
    "def find_duplicates(input_list):\n",
    "    result = []\n",
    "    for item in input_list:\n",
    "        if input_list.count(item) > 1 and item not in result:\n",
    "            result.append(item)\n",
    "    return result"
   ]
  },
  {
   "cell_type": "code",
   "execution_count": 35,
   "id": "1428d545-815b-4fdc-be4f-a4687b27db5c",
   "metadata": {},
   "outputs": [
    {
     "data": {
      "text/plain": [
       "[1, 5]"
      ]
     },
     "execution_count": 35,
     "metadata": {},
     "output_type": "execute_result"
    }
   ],
   "source": [
    "list = [1, 5, 6, 5, 1, 2, 3]\n",
    "find_duplicates(list)"
   ]
  },
  {
   "cell_type": "code",
   "execution_count": null,
   "id": "457607d2-5f56-48c0-8e41-77295b318cb9",
   "metadata": {},
   "outputs": [],
   "source": []
  }
 ],
 "metadata": {
  "kernelspec": {
   "display_name": "Python [conda env:base] *",
   "language": "python",
   "name": "conda-base-py"
  },
  "language_info": {
   "codemirror_mode": {
    "name": "ipython",
    "version": 3
   },
   "file_extension": ".py",
   "mimetype": "text/x-python",
   "name": "python",
   "nbconvert_exporter": "python",
   "pygments_lexer": "ipython3",
   "version": "3.12.7"
  }
 },
 "nbformat": 4,
 "nbformat_minor": 5
}
