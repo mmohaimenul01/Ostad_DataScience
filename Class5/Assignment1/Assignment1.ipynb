{
 "cells": [
  {
   "cell_type": "markdown",
   "id": "6417de8c-5f24-4e5f-a5ab-ed362e746f2c",
   "metadata": {},
   "source": [
    "Assignment: 01 Introduction to OOP Concepts\n",
    "Introduction to OOP Concepts\n",
    "\n",
    "Create a class Person with attributes name and age. Create an object and display its details.\n",
    "\n",
    "Input: Person(\"Alice\", 25)\n",
    "\n",
    "Output: Name: Alice, Age: 25"
   ]
  },
  {
   "cell_type": "code",
   "execution_count": 7,
   "id": "ca6d6df8-aac5-48cc-af09-004bc67307c9",
   "metadata": {},
   "outputs": [],
   "source": [
    "class Person:\n",
    "    def __init__(self, name, age):\n",
    "        self.name = name\n",
    "        self.age = age\n",
    "\n",
    "    def details(self):\n",
    "        print(f\"Name: {self.name}, Age: {self.age}\")"
   ]
  },
  {
   "cell_type": "code",
   "execution_count": 8,
   "id": "aeeb603b-ab93-4015-bd3f-15fa5480ea65",
   "metadata": {},
   "outputs": [],
   "source": [
    "person1 = Person(\"Alice\", 25)"
   ]
  },
  {
   "cell_type": "code",
   "execution_count": 9,
   "id": "e1e1af64-477b-4d06-9893-2539b22b6774",
   "metadata": {},
   "outputs": [
    {
     "name": "stdout",
     "output_type": "stream",
     "text": [
      "Name: Alice, Age: 25\n"
     ]
    }
   ],
   "source": [
    "person1.details()"
   ]
  }
 ],
 "metadata": {
  "kernelspec": {
   "display_name": "Python [conda env:base] *",
   "language": "python",
   "name": "conda-base-py"
  },
  "language_info": {
   "codemirror_mode": {
    "name": "ipython",
    "version": 3
   },
   "file_extension": ".py",
   "mimetype": "text/x-python",
   "name": "python",
   "nbconvert_exporter": "python",
   "pygments_lexer": "ipython3",
   "version": "3.12.7"
  }
 },
 "nbformat": 4,
 "nbformat_minor": 5
}
