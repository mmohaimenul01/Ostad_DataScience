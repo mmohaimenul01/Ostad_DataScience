{
 "cells": [
  {
   "cell_type": "markdown",
   "id": "4c8d6664-9798-4fad-adcf-6ff349ae44ce",
   "metadata": {},
   "source": [
    "Assignment: 02 Inheritance and Advanced OOP Features\n",
    "Inheritance and Advanced OOP Features\n",
    "\n",
    "Create a base class Animal and a derived class Dog that inherits from Animal.\n",
    "\n",
    "Output: \n",
    "\n",
    "Animals make different sounds. # From Animal class\n",
    "\n",
    "Dog barks! # From Dog Class"
   ]
  },
  {
   "cell_type": "code",
   "execution_count": 9,
   "id": "364b7026-9d67-4b07-940c-e551069ccb41",
   "metadata": {},
   "outputs": [],
   "source": [
    "class Animal:\n",
    "    def animal_sound(self):\n",
    "        print(\"Animals make different sounds.\")"
   ]
  },
  {
   "cell_type": "code",
   "execution_count": 10,
   "id": "409bb045-1c90-4411-9cc2-18adb9ea31f3",
   "metadata": {},
   "outputs": [],
   "source": [
    "class Dog(Animal):\n",
    "    def dog_sound(self): \n",
    "        print(\"Dog barks!\")"
   ]
  },
  {
   "cell_type": "code",
   "execution_count": 11,
   "id": "fdcc8e26-0c4f-480e-922e-b95e8ac6243f",
   "metadata": {},
   "outputs": [],
   "source": [
    "dog = Dog()"
   ]
  },
  {
   "cell_type": "code",
   "execution_count": 12,
   "id": "99f81d41-31c4-4f05-accd-954685788351",
   "metadata": {},
   "outputs": [
    {
     "name": "stdout",
     "output_type": "stream",
     "text": [
      "Animals make different sounds.\n",
      "Dog barks!\n"
     ]
    }
   ],
   "source": [
    "dog.animal_sound()  \n",
    "dog.dog_sound()     "
   ]
  },
  {
   "cell_type": "code",
   "execution_count": null,
   "id": "3af111dc-fc00-41b5-8f3d-16144a5488cb",
   "metadata": {},
   "outputs": [],
   "source": []
  }
 ],
 "metadata": {
  "kernelspec": {
   "display_name": "Python [conda env:base] *",
   "language": "python",
   "name": "conda-base-py"
  },
  "language_info": {
   "codemirror_mode": {
    "name": "ipython",
    "version": 3
   },
   "file_extension": ".py",
   "mimetype": "text/x-python",
   "name": "python",
   "nbconvert_exporter": "python",
   "pygments_lexer": "ipython3",
   "version": "3.12.7"
  }
 },
 "nbformat": 4,
 "nbformat_minor": 5
}
