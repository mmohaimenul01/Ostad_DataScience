{
 "cells": [
  {
   "cell_type": "markdown",
   "id": "4d48002b-a62c-4624-b332-988ae767b711",
   "metadata": {},
   "source": [
    "Problem: 01 \n",
    "\n",
    "Write a Python program that takes a number as input and checks whether it is even or odd."
   ]
  },
  {
   "cell_type": "markdown",
   "id": "96d4297d-e35e-493f-8437-3296e8fd745a",
   "metadata": {},
   "source": [
    "---------------"
   ]
  },
  {
   "cell_type": "code",
   "execution_count": 64,
   "id": "592d6339-03fa-4fdd-88f5-f70e1ba61173",
   "metadata": {},
   "outputs": [
    {
     "name": "stdin",
     "output_type": "stream",
     "text": [
      "Enter a number:  30\n"
     ]
    },
    {
     "name": "stdout",
     "output_type": "stream",
     "text": [
      "User input is: 30\n",
      "The number 30 is even\n"
     ]
    }
   ],
   "source": [
    "user_input = input(\"Enter a number: \")\n",
    "print(f\"User input is: {user_input}\")\n",
    "\n",
    "try:\n",
    "    number = float(user_input)\n",
    "    if number.is_integer():  # Checks if it’s a whole number like 10.0. Returns true or false. If true, the if statement is implemented.\n",
    "        if int(number) % 2 == 0:\n",
    "            print(f\"The number {int(number)} is even\")\n",
    "        else:\n",
    "            print(f\"The number {int(number)} is odd\")\n",
    "    else:\n",
    "        print(f\"The number {number} is a decimal number, not an integer.\")\n",
    "except ValueError:\n",
    "    print(f\"'{user_input}' is not a valid number.\")\n"
   ]
  },
  {
   "cell_type": "markdown",
   "id": "02d2378e-583d-491a-b845-2c7a1c581641",
   "metadata": {},
   "source": [
    "----------"
   ]
  },
  {
   "cell_type": "markdown",
   "id": "1b5531ac-64ae-417d-bfd3-cde17a5a944b",
   "metadata": {},
   "source": [
    "Problem: 02\n",
    "\n",
    " Write a program that takes two numbers and an operator (+, -, *, /) and performs the calculation."
   ]
  },
  {
   "cell_type": "markdown",
   "id": "55a6cb12-dcf7-4bfa-8c16-8c27f35702ad",
   "metadata": {},
   "source": [
    "----------"
   ]
  },
  {
   "cell_type": "code",
   "execution_count": 66,
   "id": "4c7df2e2-2ecc-49d2-9dd3-283d08daad80",
   "metadata": {},
   "outputs": [
    {
     "name": "stdin",
     "output_type": "stream",
     "text": [
      "Enter first number:  20\n",
      "Enter second number:  40\n",
      "Enter operator (+, -, *, /):  /\n"
     ]
    },
    {
     "name": "stdout",
     "output_type": "stream",
     "text": [
      "User first input is: 20\n",
      "User second input is: 40\n",
      "User operator choice is: /\n",
      "The result of 20.0 / 40.0 is: 0.5\n"
     ]
    }
   ],
   "source": [
    "input1 = input(\"Enter first number: \")\n",
    "input2 = input(\"Enter second number: \")\n",
    "operator = input(\"Enter operator (+, -, *, /): \")\n",
    "print(f\"User first input is: {input1}\")\n",
    "print(f\"User second input is: {input2}\")\n",
    "print(f\"User operator choice is: {operator}\")\n",
    "\n",
    "\n",
    "num1_valid = True\n",
    "num2_valid = True\n",
    "\n",
    "try:\n",
    "    num1 = float(input1)\n",
    "except ValueError:\n",
    "    num1_valid = False\n",
    "\n",
    "try:\n",
    "    num2 = float(input2)\n",
    "except ValueError:\n",
    "    num2_valid = False\n",
    "\n",
    "#To see whether inputs are valid\n",
    "if num1_valid == False and num2_valid == False:\n",
    "    print(\"Error: Both number inputs are invalid.\")\n",
    "elif num1_valid == False:\n",
    "    print(\"Error: The first number is invalid.\")\n",
    "elif num2_valid == False:\n",
    "    print(\"Error: The second number is invalid.\")\n",
    "else:\n",
    "    # If both numbers are valid, we can continue with operation\n",
    "    result = None # To say that no operation has been done yet\n",
    "\n",
    "    if operator == '+':\n",
    "        result = num1 + num2\n",
    "    elif operator == '-':\n",
    "        result = num1 - num2\n",
    "    elif operator == '*':\n",
    "        result = num1 * num2\n",
    "    elif operator == '/':\n",
    "        if num2 == 0:\n",
    "            print(\"Error: Cannot divide by zero.\")\n",
    "        else:\n",
    "            result = num1 / num2\n",
    "    else:\n",
    "        print(\"Invalid operator. Please use one of the following: +, -, *, or /.\")\n",
    "\n",
    "    if result is not None:\n",
    "        print(f\"The result of {num1} {operator} {num2} is: {result}\")\n"
   ]
  },
  {
   "cell_type": "markdown",
   "id": "49400cd5-b1f2-4c42-9818-59334814c9a2",
   "metadata": {},
   "source": [
    "----------"
   ]
  },
  {
   "cell_type": "markdown",
   "id": "e135dca3-b35f-47d0-8150-c5214562e02b",
   "metadata": {},
   "source": [
    "Problem: 03\n",
    "\n",
    "Write a program using a for loop that calculates the sum of even numbers between 1 and 100."
   ]
  },
  {
   "cell_type": "code",
   "execution_count": 68,
   "id": "5c3bf823-410e-4cda-b93c-2990a6e31e27",
   "metadata": {},
   "outputs": [
    {
     "name": "stdout",
     "output_type": "stream",
     "text": [
      "Sum of even number between 1 and 100 is : 2550\n"
     ]
    }
   ],
   "source": [
    "number_list = list(range(1,101))\n",
    "even_list = []\n",
    "for number in number_list:\n",
    "    if number % 2 == 0:\n",
    "        even_list.append(number)\n",
    "even_sum = sum(even_list)\n",
    "print(f\"Sum of even number between 1 and 100 is : {even_sum}\")"
   ]
  },
  {
   "cell_type": "code",
   "execution_count": null,
   "id": "ea448c81-7689-42af-8565-d851241f0a4d",
   "metadata": {},
   "outputs": [],
   "source": []
  }
 ],
 "metadata": {
  "kernelspec": {
   "display_name": "Python [conda env:base] *",
   "language": "python",
   "name": "conda-base-py"
  },
  "language_info": {
   "codemirror_mode": {
    "name": "ipython",
    "version": 3
   },
   "file_extension": ".py",
   "mimetype": "text/x-python",
   "name": "python",
   "nbconvert_exporter": "python",
   "pygments_lexer": "ipython3",
   "version": "3.12.7"
  }
 },
 "nbformat": 4,
 "nbformat_minor": 5
}
