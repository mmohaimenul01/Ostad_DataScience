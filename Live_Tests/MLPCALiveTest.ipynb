{
 "cells": [
  {
   "cell_type": "code",
   "execution_count": 2,
   "id": "fe3524f2-f1e5-4645-93e4-2de0d1bbcc4e",
   "metadata": {},
   "outputs": [
    {
     "name": "stdout",
     "output_type": "stream",
     "text": [
      "TN = 2\n",
      "Accuracy  = 0.5000 (50.00%)\n",
      "Precision = 0.5714\n",
      "Recall    = 0.6667\n",
      "F1        = 0.6154\n"
     ]
    }
   ],
   "source": [
    "accurate = 10         \n",
    "total = 20            \n",
    "TP = 8\n",
    "FP = 6\n",
    "FN = 4\n",
    "TN = accurate - TP\n",
    "errors = []\n",
    "if TP + TN != accurate:\n",
    "    errors.append(f\"Inconsistent input: accurate ({accurate}) must equal TP+TN ({TP + TN}).\")\n",
    "if TP + FP + FN + TN != total:\n",
    "    errors.append(f\"Inconsistent counts: TP+FP+FN+TN ({TP + FP + FN + TN}) must equal total ({total}).\")\n",
    "if total <= 0:\n",
    "    errors.append(\"Total must be > 0.\")\n",
    "\n",
    "if errors:\n",
    "    for e in errors:\n",
    "        print(\"Error:\", e)\n",
    "else:\n",
    "    if (TP + FP) > 0:\n",
    "        precision = TP / (TP + FP)\n",
    "    else:\n",
    "        precision = 0.0\n",
    "\n",
    "    if (TP + FN) > 0:\n",
    "        recall = TP / (TP + FN)\n",
    "    else:\n",
    "        recall = 0.0\n",
    "\n",
    "    accuracy = (TP + TN) / total\n",
    "\n",
    "    if (precision + recall) > 0:\n",
    "        f1 = 2 * precision * recall / (precision + recall)\n",
    "    else:\n",
    "        f1 = 0.0\n",
    "    print(f\"TN = {TN}\")\n",
    "    print(f\"Accuracy  = {accuracy:.4f} ({accuracy*100:.2f}%)\")\n",
    "    print(f\"Precision = {precision:.4f}\")\n",
    "    print(f\"Recall    = {recall:.4f}\")\n",
    "    print(f\"F1        = {f1:.4f}\")"
   ]
  },
  {
   "cell_type": "code",
   "execution_count": null,
   "id": "3e287e1b-ab89-4dff-8ba7-aced0edb26be",
   "metadata": {},
   "outputs": [],
   "source": []
  }
 ],
 "metadata": {
  "kernelspec": {
   "display_name": "Python [conda env:base] *",
   "language": "python",
   "name": "conda-base-py"
  },
  "language_info": {
   "codemirror_mode": {
    "name": "ipython",
    "version": 3
   },
   "file_extension": ".py",
   "mimetype": "text/x-python",
   "name": "python",
   "nbconvert_exporter": "python",
   "pygments_lexer": "ipython3",
   "version": "3.12.7"
  }
 },
 "nbformat": 4,
 "nbformat_minor": 5
}
