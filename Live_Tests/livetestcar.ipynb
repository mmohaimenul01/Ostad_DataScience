{
 "cells": [
  {
   "cell_type": "code",
   "execution_count": 1,
   "id": "225964cd-f8c4-44ac-a889-f29cc002da13",
   "metadata": {},
   "outputs": [
    {
     "name": "stdout",
     "output_type": "stream",
     "text": [
      "    Mileage  Sell Price($)  Age(yrs)  Model_Audi A5  Model_BMW X5  \\\n",
      "0     69000          18000         6              0             1   \n",
      "1     35000          34000         3              0             1   \n",
      "2     57000          26100         5              0             1   \n",
      "3     22500          40000         2              0             1   \n",
      "4     46000          31500         4              0             1   \n",
      "5     59000          29400         5              1             0   \n",
      "6     52000          32000         5              1             0   \n",
      "7     72000          19300         7              1             0   \n",
      "8     91000          12000         8              1             0   \n",
      "9     67000          22000         6              0             0   \n",
      "10    83000          20000         7              0             0   \n",
      "11    79000          21000         7              0             0   \n",
      "12    59000          33000         5              0             0   \n",
      "\n",
      "    Model_Mercedez Benz C class  \n",
      "0                             0  \n",
      "1                             0  \n",
      "2                             0  \n",
      "3                             0  \n",
      "4                             0  \n",
      "5                             0  \n",
      "6                             0  \n",
      "7                             0  \n",
      "8                             0  \n",
      "9                             1  \n",
      "10                            1  \n",
      "11                            1  \n",
      "12                            1  \n"
     ]
    }
   ],
   "source": [
    "import pandas as pd\n",
    "data = {\n",
    "    \"Car Model\": [\n",
    "        \"BMW X5\",\"BMW X5\",\"BMW X5\",\"BMW X5\",\"BMW X5\",\n",
    "        \"Audi A5\",\"Audi A5\",\"Audi A5\",\"Audi A5\",\n",
    "        \"Mercedez Benz C class\",\"Mercedez Benz C class\",\"Mercedez Benz C class\",\"Mercedez Benz C class\"\n",
    "    ],\n",
    "    \"Mileage\": [69000,35000,57000,22500,46000,59000,52000,72000,91000,67000,83000,79000,59000],\n",
    "    \"Sell Price($)\": [18000,34000,26100,40000,31500,29400,32000,19300,12000,22000,20000,21000,33000],\n",
    "    \"Age(yrs)\": [6,3,5,2,4,5,5,7,8,6,7,7,5]\n",
    "}\n",
    "df = pd.DataFrame(data)\n",
    "\n",
    "# ---- One-hot encode Car Model ----\n",
    "df_ohe = pd.get_dummies(df, columns=[\"Car Model\"], prefix=\"Model\", dtype=int)\n",
    "print(df_ohe)"
   ]
  },
  {
   "cell_type": "code",
   "execution_count": 3,
   "id": "07f9b8bf-b183-4b90-bd08-6f41710cb4fd",
   "metadata": {},
   "outputs": [
    {
     "name": "stdout",
     "output_type": "stream",
     "text": [
      "    Mileage  Sell Price($)  Age(yrs)  Model_BMW X5  \\\n",
      "0     69000          18000         6             1   \n",
      "1     35000          34000         3             1   \n",
      "2     57000          26100         5             1   \n",
      "3     22500          40000         2             1   \n",
      "4     46000          31500         4             1   \n",
      "5     59000          29400         5             0   \n",
      "6     52000          32000         5             0   \n",
      "7     72000          19300         7             0   \n",
      "8     91000          12000         8             0   \n",
      "9     67000          22000         6             0   \n",
      "10    83000          20000         7             0   \n",
      "11    79000          21000         7             0   \n",
      "12    59000          33000         5             0   \n",
      "\n",
      "    Model_Mercedez Benz C class  \n",
      "0                             0  \n",
      "1                             0  \n",
      "2                             0  \n",
      "3                             0  \n",
      "4                             0  \n",
      "5                             0  \n",
      "6                             0  \n",
      "7                             0  \n",
      "8                             0  \n",
      "9                             1  \n",
      "10                            1  \n",
      "11                            1  \n",
      "12                            1  \n"
     ]
    }
   ],
   "source": [
    "df_ohe1 = pd.get_dummies(df, columns=[\"Car Model\"], prefix=\"Model\", drop_first=True, dtype=int)\n",
    "print(df_ohe1)"
   ]
  },
  {
   "cell_type": "code",
   "execution_count": 4,
   "id": "692d618a-82e4-468a-8108-1a38c72961ac",
   "metadata": {},
   "outputs": [
    {
     "name": "stdout",
     "output_type": "stream",
     "text": [
      "Strict one-hot (all categories kept):\n",
      "   Car Model_Audi A5  Car Model_BMW X5  Car Model_Mercedez Benz C class  \\\n",
      "0                0.0               1.0                              0.0   \n",
      "1                0.0               1.0                              0.0   \n",
      "2                0.0               1.0                              0.0   \n",
      "3                0.0               1.0                              0.0   \n",
      "4                0.0               1.0                              0.0   \n",
      "\n",
      "   Mileage  Sell Price($)  Age(yrs)  \n",
      "0  69000.0        18000.0       6.0  \n",
      "1  35000.0        34000.0       3.0  \n",
      "2  57000.0        26100.0       5.0  \n",
      "3  22500.0        40000.0       2.0  \n",
      "4  46000.0        31500.0       4.0  \n",
      "\n",
      "Drop-first (k-1 dummies):\n",
      "   Car Model_BMW X5  Car Model_Mercedez Benz C class  Mileage  Sell Price($)  \\\n",
      "0               1.0                              0.0  69000.0        18000.0   \n",
      "1               1.0                              0.0  35000.0        34000.0   \n",
      "2               1.0                              0.0  57000.0        26100.0   \n",
      "3               1.0                              0.0  22500.0        40000.0   \n",
      "4               1.0                              0.0  46000.0        31500.0   \n",
      "\n",
      "   Age(yrs)  \n",
      "0       6.0  \n",
      "1       3.0  \n",
      "2       5.0  \n",
      "3       2.0  \n",
      "4       4.0  \n"
     ]
    }
   ],
   "source": [
    "import pandas as pd\n",
    "import numpy as np\n",
    "from sklearn.preprocessing import OneHotEncoder\n",
    "from sklearn.compose import ColumnTransformer\n",
    "data = {\n",
    "    \"Car Model\": [\n",
    "        \"BMW X5\",\"BMW X5\",\"BMW X5\",\"BMW X5\",\"BMW X5\",\n",
    "        \"Audi A5\",\"Audi A5\",\"Audi A5\",\"Audi A5\",\n",
    "        \"Mercedez Benz C class\",\"Mercedez Benz C class\",\"Mercedez Benz C class\",\"Mercedez Benz C class\"\n",
    "    ],\n",
    "    \"Mileage\": [69000,35000,57000,22500,46000,59000,52000,72000,91000,67000,83000,79000,59000],\n",
    "    \"Sell Price($)\": [18000,34000,26100,40000,31500,29400,32000,19300,12000,22000,20000,21000,33000],\n",
    "    \"Age(yrs)\": [6,3,5,2,4,5,5,7,8,6,7,7,5]\n",
    "}\n",
    "df = pd.DataFrame(data)\n",
    "cat_cols = [\"Car Model\"]\n",
    "num_cols = [\"Mileage\", \"Sell Price($)\", \"Age(yrs)\"]\n",
    "def ct_to_dataframe(ct, X, num_cols):\n",
    "    ohe_names = ct.named_transformers_[\"ohe\"].get_feature_names_out(cat_cols)\n",
    "    cols = list(ohe_names) + num_cols\n",
    "    return pd.DataFrame(X, columns=cols, index=df.index)\n",
    "ct_all = ColumnTransformer(\n",
    "    transformers=[\n",
    "        (\"ohe\", OneHotEncoder(handle_unknown=\"ignore\", sparse_output=False), cat_cols)\n",
    "    ],\n",
    "    remainder=\"passthrough\",  \n",
    ")\n",
    "X_all = ct_all.fit_transform(df)\n",
    "df_all = ct_to_dataframe(ct_all, X_all, num_cols)\n",
    "print(\"Strict one-hot (all categories kept):\")\n",
    "print(df_all.head())\n",
    "ct_drop = ColumnTransformer(\n",
    "    transformers=[\n",
    "        (\"ohe\", OneHotEncoder(drop=\"first\", handle_unknown=\"ignore\", sparse_output=False), cat_cols)\n",
    "    ],\n",
    "    remainder=\"passthrough\",\n",
    ")\n",
    "X_drop = ct_drop.fit_transform(df)\n",
    "df_drop = ct_to_dataframe(ct_drop, X_drop, num_cols)\n",
    "print(\"\\nDrop-first (k-1 dummies):\")\n",
    "print(df_drop.head())"
   ]
  },
  {
   "cell_type": "code",
   "execution_count": null,
   "id": "53c255e9-7601-471e-8dd2-db27debad6a7",
   "metadata": {},
   "outputs": [],
   "source": []
  }
 ],
 "metadata": {
  "kernelspec": {
   "display_name": "Python [conda env:base] *",
   "language": "python",
   "name": "conda-base-py"
  },
  "language_info": {
   "codemirror_mode": {
    "name": "ipython",
    "version": 3
   },
   "file_extension": ".py",
   "mimetype": "text/x-python",
   "name": "python",
   "nbconvert_exporter": "python",
   "pygments_lexer": "ipython3",
   "version": "3.12.7"
  }
 },
 "nbformat": 4,
 "nbformat_minor": 5
}
