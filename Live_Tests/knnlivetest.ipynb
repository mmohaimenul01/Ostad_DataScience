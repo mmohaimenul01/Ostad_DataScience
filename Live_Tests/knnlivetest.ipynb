{
 "cells": [
  {
   "cell_type": "code",
   "execution_count": 1,
   "id": "337c5636-4957-4a2f-a0e4-bf118c5d4827",
   "metadata": {},
   "outputs": [
    {
     "name": "stdout",
     "output_type": "stream",
     "text": [
      "Training accuracy (no split): 0.9166666666666666\n"
     ]
    }
   ],
   "source": [
    "import pandas as pd\n",
    "from io import StringIO\n",
    "from sklearn.neighbors import KNeighborsClassifier\n",
    "\n",
    "csv_text = \"\"\"Cd_1,Cd_2,Cd_3,Cd_4,Cd_5,Cd_6,Cd_7,Cd_8,Cd_9,Cd_10,Result\n",
    "53.1,63.4,33,46.2,47.3,21.2,44.3,36.1,46.6,65,Y\n",
    "36.9,54.7,31.1,50.5,56,38.9,39.4,56.8,33,78.8,N\n",
    "41.9,65.5,53.5,52.3,92.5,43.2,94.9,64.7,50.8,67.9,N\n",
    "71.7,75.6,37.9,50.3,69.2,52.3,82.3,77.3,80.8,60.9,Y\n",
    "74.3,51.8,36.4,40.9,74.7,42.2,65.1,36.2,77.6,74.9,Y\n",
    "48.4,83.1,64.1,62.5,67.1,60.7,74.7,71.7,27.1,80.7,N\n",
    "54.9,68.3,62.4,17.5,60.4,25.7,53.3,42.3,59,58.7,N\n",
    "47.4,59.4,52,14.9,57.2,62.7,66.9,75.2,65,75.3,N\n",
    "45.1,79.8,45.5,20.6,45,64.4,51.4,73.5,59.3,64.7,N\n",
    "44.9,28.1,51.8,57.6,86.7,53.2,70.3,33.4,81.8,51.8,Y\n",
    "74.6,72.6,33.9,40.2,62.9,43,45.4,33.6,66.1,76.1,Y\n",
    "61.8,77.2,52.1,38.5,87.7,47.5,53.8,69.3,29.9,75.2,N\n",
    "30.7,68.4,58,24.3,61.3,34.1,77.9,61.3,44.9,72.6,N\n",
    "55.4,71.9,32.7,55.4,75.7,40.7,59.4,29.6,81.8,59.1,Y\n",
    "46.5,51.1,40.5,39.5,51.6,80.6,60.7,91.9,39.3,73.3,N\n",
    "61.7,57,34.8,28.5,56.4,58.5,70.8,69.9,64.6,65.7,Y\n",
    "41.6,75.2,57.9,41.3,74.5,73.4,34.4,87.4,44.8,65.9,N\n",
    "52.3,66.9,77.3,20.6,77.2,66,59.5,68.6,59.1,78.7,N\n",
    "51.3,69.6,53.6,40.9,76.9,82.9,42.5,40.7,51.8,87.3,N\n",
    "44.6,76,47.8,37.4,76.8,52.9,64.5,93,39.4,58,N\n",
    "72.8,90.6,53.5,53.5,85.7,79.8,52.4,71.8,39.1,63,N\n",
    "35.6,73,62.3,48.9,43.8,68.4,55.6,97.6,34.2,63.3,N\n",
    "38.4,32.9,51.3,29.9,50.4,63.7,67.5,75.7,44.7,78.6,N\n",
    "74.2,50.4,9.9,64.7,60.4,56,51.2,57.4,73.9,64.9,Y\n",
    "\"\"\"\n",
    "df = pd.read_csv(StringIO(csv_text))\n",
    "\n",
    "\n",
    "feature_cols = [c for c in df.columns if c.startswith(\"Cd_\")]\n",
    "X = df[feature_cols]\n",
    "y = df[\"Result\"]  \n",
    "\n",
    "\n",
    "knn = KNeighborsClassifier(n_neighbors=5, metric=\"euclidean\", weights=\"uniform\")\n",
    "knn.fit(X, y)\n",
    "\n",
    "\n",
    "print(\"Training accuracy (no split):\", (knn.predict(X) == y).mean())\n"
   ]
  },
  {
   "cell_type": "code",
   "execution_count": 2,
   "id": "6983d400-7a5e-42ff-b354-7f9d19fb8211",
   "metadata": {},
   "outputs": [
    {
     "name": "stdout",
     "output_type": "stream",
     "text": [
      "Training accuracy (no split): 0.9583333333333334\n"
     ]
    }
   ],
   "source": [
    "knn = KNeighborsClassifier(n_neighbors=3, metric=\"euclidean\", weights=\"uniform\")\n",
    "knn.fit(X, y)\n",
    "\n",
    "\n",
    "print(\"Training accuracy (no split):\", (knn.predict(X) == y).mean())\n"
   ]
  },
  {
   "cell_type": "code",
   "execution_count": null,
   "id": "d76fd26b-428e-420e-aa18-a628c6d257ca",
   "metadata": {},
   "outputs": [],
   "source": []
  }
 ],
 "metadata": {
  "kernelspec": {
   "display_name": "Python [conda env:base] *",
   "language": "python",
   "name": "conda-base-py"
  },
  "language_info": {
   "codemirror_mode": {
    "name": "ipython",
    "version": 3
   },
   "file_extension": ".py",
   "mimetype": "text/x-python",
   "name": "python",
   "nbconvert_exporter": "python",
   "pygments_lexer": "ipython3",
   "version": "3.12.7"
  }
 },
 "nbformat": 4,
 "nbformat_minor": 5
}
