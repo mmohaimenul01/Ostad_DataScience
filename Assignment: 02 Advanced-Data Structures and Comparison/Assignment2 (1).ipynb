{
 "cells": [
  {
   "cell_type": "markdown",
   "id": "a6f99bb9-4487-42f9-a12c-c9d0c337da7b",
   "metadata": {},
   "source": [
    "Assignment: 02 Advanced-Data Structures and Comparison\n",
    "Advanced-Data Structures and Comparison\n",
    "\n",
    "Write a Python program that takes two sets from the user and computes their union, intersection, and difference.\n",
    "\n",
    "A = {1, 2, 3, 4, 5}\n",
    "\n",
    "B = {4, 5, 6, 7, 8}"
   ]
  },
  {
   "cell_type": "code",
   "execution_count": 1,
   "id": "b7764460-3376-477d-8ce5-effd9d81220d",
   "metadata": {},
   "outputs": [
    {
     "name": "stdin",
     "output_type": "stream",
     "text": [
      "Enter elements of Set A with commas:  1,2,3,4,5\n",
      "Enter elements of Set B with commas:  4,5,6,7,8\n"
     ]
    },
    {
     "name": "stdout",
     "output_type": "stream",
     "text": [
      "\n",
      "Set A: {1, 2, 3, 4, 5}\n",
      "Set B: {4, 5, 6, 7, 8}\n",
      "Union (A ∪ B): {1, 2, 3, 4, 5, 6, 7, 8}\n",
      "Intersection (A ∩ B): {4, 5}\n",
      "Difference (A - B): {1, 2, 3}\n"
     ]
    }
   ],
   "source": [
    "input_A = input(\"Enter elements of Set A with commas: \")\n",
    "A = set(map(int, input_A.split(',')))\n",
    "input_B = input(\"Enter elements of Set B with commas: \")\n",
    "B = set(map(int, input_B.split(',')))\n",
    "\n",
    "union_result = A.union(B)\n",
    "\n",
    "intersection_result = A.intersection(B)\n",
    "\n",
    "difference_A_B = A.difference(B)\n",
    "\n",
    "print(\"\\nSet A:\", A)\n",
    "print(\"Set B:\", B)\n",
    "print(\"Union (A ∪ B):\", union_result)\n",
    "print(\"Intersection (A ∩ B):\", intersection_result)\n",
    "print(\"Difference (A - B):\", difference_A_B)"
   ]
  },
  {
   "cell_type": "code",
   "execution_count": null,
   "id": "fda9b04f-eafe-45a6-9cfd-cafd71637613",
   "metadata": {},
   "outputs": [],
   "source": []
  }
 ],
 "metadata": {
  "kernelspec": {
   "display_name": "Python [conda env:base] *",
   "language": "python",
   "name": "conda-base-py"
  },
  "language_info": {
   "codemirror_mode": {
    "name": "ipython",
    "version": 3
   },
   "file_extension": ".py",
   "mimetype": "text/x-python",
   "name": "python",
   "nbconvert_exporter": "python",
   "pygments_lexer": "ipython3",
   "version": "3.12.7"
  }
 },
 "nbformat": 4,
 "nbformat_minor": 5
}
